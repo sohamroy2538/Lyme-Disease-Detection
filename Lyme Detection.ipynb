{
  "cells": [
    {
      "cell_type": "markdown",
      "metadata": {
        "id": "9zzlSS5vsxSS"
      },
      "source": [
        "# HLCV Project"
      ]
    },
    {
      "cell_type": "code",
      "execution_count": null,
      "metadata": {
        "id": "62OCVFrnRZGx"
      },
      "outputs": [],
      "source": [
        "\n",
        "Name = \"Soham Roy\"\n",
        "Matriculation_Number = \"7028704\""
      ]
    },
    {
      "cell_type": "code",
      "execution_count": null,
      "metadata": {
        "colab": {
          "base_uri": "https://localhost:8080/"
        },
        "id": "i6fBKi5dRdVQ",
        "outputId": "41281188-941c-46b0-a9a5-2cb767fcb537"
      },
      "outputs": [
        {
          "output_type": "stream",
          "name": "stdout",
          "text": [
            "Mounted at /content/drive\n"
          ]
        }
      ],
      "source": [
        " from google.colab import drive\n",
        " drive.mount('/content/drive')\n",
        "\n",
        " !mkdir ./datasets\n",
        " !mkdir ./datasets/lyme_dataset\n",
        " !cp -r drive/MyDrive/archive.zip ./datasets\n",
        " !unzip -q -o \"./datasets/archive.zip\" -d \"./datasets/lyme_dataset\"\n",
        "\n",
        "\n",
        "\n",
        "\n",
        "\n",
        "# from google.colab import drive\n",
        "# drive.mount('/content/drive')\n",
        "\n",
        "# !mkdir ./datasets\n",
        "# !mkdir ./datasets/lyme_dataset\n",
        "# !cp -r drive/MyDrive/Colab\\ Notebooks/HLCV_project/datasets/lyme_dataset.zip ./datasets\n",
        "# !unzip -q -o \"./datasets/lyme_dataset.zip\" -d \"./datasets/lyme_dataset\"\n",
        "\n",
        "# '''\n",
        "# !mkdir ./resources\n",
        "\n",
        "# !cp -r drive/MyDrive/Colab\\ Notebooks/HLCV/Exercise_3/resources/fig1.png ./resources\n",
        "# !cp -r drive/MyDrive/Colab\\ Notebooks/HLCV/Exercise_3/resources/fig2.png ./resources\n",
        "\n",
        "# '''"
      ]
    },
    {
      "cell_type": "markdown",
      "metadata": {
        "id": "QV_zGNoMsxSa"
      },
      "source": [
        "# Imports"
      ]
    },
    {
      "cell_type": "code",
      "execution_count": null,
      "metadata": {
        "id": "nifGyyAjRiJd"
      },
      "outputs": [],
      "source": [
        "import os\n",
        "import glob\n",
        "import random\n",
        "from pathlib import Path\n",
        "import torch\n",
        "import torch.nn as nn\n",
        "from torch.utils.data import Dataset, DataLoader\n",
        "import torchvision\n",
        "import torchvision.transforms as transforms\n",
        "from torchvision.io import read_image\n",
        "import numpy as np\n",
        "import matplotlib.pyplot as plt\n",
        "from PIL import Image\n",
        "import torch.utils.data as data\n",
        "import pandas as pd\n",
        "import os\n",
        "import shutil\n",
        "from glob import glob\n",
        "import pandas as pd\n",
        "import os\n",
        "import shutil"
      ]
    },
    {
      "cell_type": "markdown",
      "metadata": {
        "id": "hRgAQ3OtKLeE"
      },
      "source": [
        "### Params"
      ]
    },
    {
      "cell_type": "code",
      "execution_count": null,
      "metadata": {
        "colab": {
          "base_uri": "https://localhost:8080/"
        },
        "id": "GTnqkXkIKKs8",
        "outputId": "98b7f9cb-1c37-4e87-c359-a833031d584b"
      },
      "outputs": [
        {
          "output_type": "stream",
          "name": "stdout",
          "text": [
            "Using device: cuda\n"
          ]
        }
      ],
      "source": [
        "IMAGE_SIZE = 256\n",
        "EPOCHS = 120\n",
        "BATCH = 4\n",
        "LR = 1e-4\n",
        "\n",
        "device = torch.device('cuda' if torch.cuda.is_available() else 'cpu')\n",
        "print('Using device: %s'%device)\n"
      ]
    },
    {
      "cell_type": "markdown",
      "metadata": {
        "id": "AJNOEAWNsxSe"
      },
      "source": [
        "# Define data augmentations"
      ]
    },
    {
      "cell_type": "code",
      "execution_count": null,
      "metadata": {
        "id": "vc02dP-sWBLl"
      },
      "outputs": [],
      "source": [
        "data_aug_transforms = []\n",
        "\n",
        "data_aug_transforms.append(transforms.RandomRotation([-90, 90]) )\n",
        "data_aug_transforms.append( transforms.RandomHorizontalFlip() )\n",
        "data_aug_transforms.append(transforms.ColorJitter(brightness = 0.2))\n",
        "\n",
        "norm_transforms = [transforms.Resize((IMAGE_SIZE, IMAGE_SIZE)),\n",
        "                   transforms.ToTensor(),\n",
        "                   transforms.Normalize((0.5, 0.5, 0.5), (0.5, 0.5, 0.5))]\n",
        "\n",
        "train_transforms = transforms.Compose(data_aug_transforms + norm_transforms)\n",
        "\n",
        "# Add Compose\n",
        "test_transforms =transforms.Compose(norm_transforms)"
      ]
    },
    {
      "cell_type": "markdown",
      "metadata": {
        "id": "gkZvV01HsxSg"
      },
      "source": [
        "# Load Lyme DS"
      ]
    },
    {
      "cell_type": "code",
      "execution_count": null,
      "metadata": {
        "colab": {
          "base_uri": "https://localhost:8080/"
        },
        "id": "-_za5Zr7sxSg",
        "outputId": "a8ba5635-0901-4e00-b39c-858c12b5e779"
      },
      "outputs": [
        {
          "output_type": "stream",
          "name": "stdout",
          "text": [
            "Lyme Dermnet data: Dataset ImageFolder\n",
            "    Number of datapoints: 357\n",
            "    Root location: ./datasets/lyme_dataset/RashData/Train/Train_2_Cases\n",
            "    StandardTransform\n",
            "Transform: Compose(\n",
            "               RandomRotation(degrees=[-90.0, 90.0], interpolation=nearest, expand=False, fill=0)\n",
            "               RandomHorizontalFlip(p=0.5)\n",
            "               ColorJitter(brightness=[0.8, 1.2], contrast=None, saturation=None, hue=None)\n",
            "               Resize(size=(256, 256), interpolation=bilinear, max_size=None, antialias=None)\n",
            "               ToTensor()\n",
            "               Normalize(mean=(0.5, 0.5, 0.5), std=(0.5, 0.5, 0.5))\n",
            "           )\n",
            "Lyme classes: ['Lyme_Negative', 'Lyme_Positive']\n"
          ]
        }
      ],
      "source": [
        "#Load Lyme\n",
        "#lyme_train_data_path = \"./datasets/Lyme/Train/Train_2_Cases\"\n",
        "#lyme_test_data_path = \"./datasets/Lyme/Validation/Validation_2_Cases\"\n",
        "lyme_train_data_path = \"./datasets/lyme_dataset/RashData/Train/Train_2_Cases\"\n",
        "lyme_test_data_path = \"./datasets/lyme_dataset/RashData/Validation/Validation_2_Cases\"\n",
        "# ImageFolder is a generic data loader where the images are arranged in multiple folders\n",
        "\n",
        "#Load TRAIN\n",
        "lyme_train_data = torchvision.datasets.ImageFolder(root=lyme_train_data_path, transform=train_transforms)\n",
        "lyme_train_data_loader = data.DataLoader(lyme_train_data, batch_size=BATCH, shuffle=True)\n",
        "print(\"Lyme Dermnet data:\", lyme_train_data)\n",
        "\n",
        "# Load TEST\n",
        "lyme_test_data = torchvision.datasets.ImageFolder(root=lyme_test_data_path, transform=test_transforms)\n",
        "lyme_test_data_loader = data.DataLoader(lyme_test_data, batch_size=BATCH)\n",
        "\n",
        "list_of_classes=list(map(str, list(lyme_train_data.classes)) )\n",
        "print(\"Lyme classes:\", list_of_classes)"
      ]
    },
    {
      "cell_type": "markdown",
      "metadata": {
        "id": "8F7lnDEdsxSh"
      },
      "source": [
        "# Train val split"
      ]
    },
    {
      "cell_type": "code",
      "execution_count": null,
      "metadata": {
        "id": "idUiLrfZsxSh"
      },
      "outputs": [],
      "source": [
        "val_split = 0.1\n",
        "\n",
        "num_training = int((1 - val_split) * len(lyme_train_data))\n",
        "num_validation = len(lyme_train_data) - num_training\n",
        "mask = list(range(num_training))\n",
        "\n",
        "train_dataset = torch.utils.data.Subset(lyme_train_data, mask)\n",
        "mask = list(range(num_training, num_training + num_validation))\n",
        "val_dataset = torch.utils.data.Subset(lyme_train_data, mask)\n",
        "\n",
        "# Create DataLoaders\n",
        "lyme_train_data_loader = data.DataLoader(train_dataset, batch_size=BATCH, shuffle=True, drop_last=True)\n",
        "lyme_validation_data_loader = data.DataLoader(val_dataset, batch_size=BATCH, shuffle=True, drop_last=True)\n"
      ]
    },
    {
      "cell_type": "markdown",
      "metadata": {
        "id": "DWFEognUsxSi"
      },
      "source": [
        "## Check dataloader"
      ]
    },
    {
      "cell_type": "code",
      "execution_count": null,
      "metadata": {
        "id": "9IH42qrWsxSi"
      },
      "outputs": [],
      "source": [
        "# iterator=iter(lyme_validation_data_loader)\n",
        "# inputs, classes = next(iterator)\n",
        "# print(len(inputs))\n",
        "\n",
        "# plt.imshow(inputs[0].squeeze().permute(2,1,0))\n",
        "# plt.show()\n",
        "# print(\"CLass: \",classes[2])"
      ]
    },
    {
      "cell_type": "markdown",
      "metadata": {
        "id": "ZUG6PbRxsxSi"
      },
      "source": [
        "# Load Dermnet DS"
      ]
    },
    {
      "cell_type": "code",
      "execution_count": null,
      "metadata": {
        "id": "k7jERw52sxSj"
      },
      "outputs": [],
      "source": [
        "#Load Dermnet\n",
        "dermnet_train_data_path = \"./datasets/Dermnet/train\"\n",
        "dermnet_test_data_path = \"./datasets/Dermnet/test\"\n",
        "\n",
        "# ImageFolder is a generic data loader where the images are arranged in multiple folders\n",
        "dermnet_train_data = torchvision.datasets.ImageFolder(root=dermnet_train_data_path, transform=train_transforms)\n",
        "dermnet_train_data_loader = data.DataLoader(dermnet_train_data, batch_size=BATCH, shuffle=True)\n",
        "print(\"Details Dermnet data:\", dermnet_train_data)\n",
        "\n",
        "# Load test\n",
        "dermnet_test_data = torchvision.datasets.ImageFolder(root=dermnet_test_data_path, transform=test_transforms)\n",
        "dermnet_test_data_loader = data.DataLoader(dermnet_train_data, batch_size=BATCH)\n",
        "\n",
        "# Load list of classes\n",
        "list_of_classes=list(map(str, list(dermnet_train_data.classes)) )\n",
        "print(\"Dermnet classes\", list_of_classes)"
      ]
    },
    {
      "cell_type": "markdown",
      "metadata": {
        "id": "jTZjH2cbsxSj"
      },
      "source": [
        "# Load HAM DS"
      ]
    },
    {
      "cell_type": "code",
      "execution_count": null,
      "metadata": {
        "id": "CDSkaDDHsxSj"
      },
      "outputs": [],
      "source": [
        "ham_df = pd.read_csv('./datasets/HAM10000/HAM10000_metadata.csv')\n",
        "ham_df.head()"
      ]
    },
    {
      "cell_type": "markdown",
      "metadata": {
        "id": "Q98hDnHzsxSj"
      },
      "source": [
        "## Extract images based on their label"
      ]
    },
    {
      "cell_type": "code",
      "execution_count": null,
      "metadata": {
        "scrolled": true,
        "id": "oep-Tu00sxSk"
      },
      "outputs": [],
      "source": [
        "# Take labels\n",
        "name_labels = ham_df[\"dx\"].unique()\n",
        "\n",
        "# Create folders with the label name and add the corresponding images -> Must for using ImageFolder!\n",
        "\n",
        "for label in range(len(name_labels)):\n",
        "    # create folder for each label\n",
        "    label_folder_path = \"./datasets/HAM10000/train/\" + str(name_labels[label])\n",
        "\n",
        "    # check is path exists if not create folder\n",
        "    if not os.path.exists(label_folder_path):\n",
        "        os.mkdir('./datasets/HAM10000/train/' + name_labels[label] + \"/\" )\n",
        "\n",
        "    # take the image id corresponding to label\n",
        "    image_names =  ham_df[ham_df['dx'] == name_labels[label]]['image_id']\n",
        "\n",
        "    # iterate through all image names\n",
        "    for image in image_names:\n",
        "        # create the path for image: either part 1 or part 2\n",
        "        path_folder_1 = \"./datasets/HAM10000/HAM10000_images_part_1/\" + image + \".jpg\"\n",
        "        path_folder_2 = \"./datasets/HAM10000/HAM10000_images_part_2/\" + image + \".jpg\"\n",
        "\n",
        "        # find where is the image and copy it into the label folder\n",
        "        if os.path.exists(path_folder_1):\n",
        "            shutil.copyfile(path_folder_1, './datasets/HAM10000/train/' + name_labels[label] + \"/\" + image + \".jpg\")\n",
        "        else:\n",
        "            shutil.copyfile(path_folder_2, './datasets/HAM10000/train/' + name_labels[label] + \"/\" + image + \".jpg\")"
      ]
    },
    {
      "cell_type": "markdown",
      "metadata": {
        "id": "EwUgF0fNsxSk"
      },
      "source": [
        "## Load data"
      ]
    },
    {
      "cell_type": "code",
      "execution_count": null,
      "metadata": {
        "id": "Tq0ClQuysxSk"
      },
      "outputs": [],
      "source": [
        "#Load Dermnet\n",
        "HAM_train_data_path = \"./datasets/HAM10000/train\"\n",
        "\n",
        "# ImageFolder is a generic data loader where the images are arranged in multiple folders\n",
        "ham_train_data = torchvision.datasets.ImageFolder(root=HAM_train_data_path, transform=train_transforms)\n",
        "ham_train_data_loader = data.DataLoader(ham_train_data, batch_size=BATCH, shuffle=True)\n",
        "print(\"HAM1000 Dermnet data:\", ham_train_data)\n",
        "\n",
        "# # Load list of classes\n",
        "list_of_classes=list(map(str, list(ham_train_data.classes)) )\n",
        "print(\"HAM1000 classes\", list_of_classes)"
      ]
    },
    {
      "cell_type": "markdown",
      "metadata": {
        "id": "ZSDvF5JPQbDS"
      },
      "source": [
        "### Create Model"
      ]
    },
    {
      "cell_type": "code",
      "execution_count": null,
      "metadata": {
        "id": "ct4o47mpQeMc"
      },
      "outputs": [],
      "source": [
        "from torchvision import models\n",
        "\n",
        "layer_config= [2048, 512, 256]\n",
        "num_classes = 1\n",
        "num_epochs = 30\n",
        "batch_size = 200\n",
        "learning_rate = 1e-5\n",
        "learning_rate_decay = 0.99\n",
        "\n",
        "class ResNet50(nn.Module):\n",
        "    \"\"\"Create ResNet 50 model pretrained with ImageNet\"\"\"\n",
        "    def __init__(self, n_class, fine_tune, pretrained=True):\n",
        "        super(ResNet50, self).__init__()\n",
        "        self.net = models.resnet50(pretrained=pretrained)\n",
        "\n",
        "        # add new classifier layers\n",
        "        self.net.fc = nn.Sequential(\n",
        "            nn.Flatten(),\n",
        "            nn.Linear(layer_config[0], layer_config[1]),\n",
        "            nn.BatchNorm1d(layer_config[1]),\n",
        "            nn.ReLU(),\n",
        "            nn.Linear(layer_config[1], layer_config[2]),\n",
        "            nn.BatchNorm1d(layer_config[2]),\n",
        "            nn.ReLU(),\n",
        "            nn.Linear(layer_config[2], n_class)\n",
        "        )\n",
        "\n",
        "    def forward(self, x):\n",
        "        out = self.net(x)\n",
        "        return out.view(-1, 1).squeeze(1).type(torch.FloatTensor)\n",
        "\n",
        "# Initialize the model for this run\n",
        "fine_tune = True\n",
        "pretrained = True\n",
        "model= ResNet50(num_classes, fine_tune, pretrained)\n",
        "print(model)\n",
        "\n",
        "\n",
        "print(\"Params to learn:\")\n",
        "if fine_tune:\n",
        "    params_to_update = []\n",
        "    for name, param in model.named_parameters():\n",
        "        if param.requires_grad == True:\n",
        "            params_to_update.append(param)\n",
        "            print(\"\\t\",name)\n",
        "else:\n",
        "    params_to_update = model.parameters()\n",
        "    for name,param in model.named_parameters():\n",
        "        if param.requires_grad == True:\n",
        "            print(\"\\t\",name)\n",
        "\n",
        "\n",
        "model.to(device)"
      ]
    },
    {
      "cell_type": "markdown",
      "metadata": {
        "id": "8PAbVYr5sxSl"
      },
      "source": [
        "# Finetuning"
      ]
    },
    {
      "cell_type": "code",
      "execution_count": null,
      "metadata": {
        "id": "_-FabsTwYqzA"
      },
      "outputs": [],
      "source": [
        "CUDA_LAUNCH_BLOCKING=\"1\"\n",
        "\n",
        "\n",
        "def update_lr(optimizer, lr):\n",
        "    for param_group in optimizer.param_groups:\n",
        "        param_group['lr'] = lr\n",
        "\n",
        "# store best model and acc\n",
        "best_model_name = 'bestmodel_resnet50_imagenet.ckpt'\n",
        "best_model = None\n",
        "best_val_acc = 0.\n",
        "\n",
        "\n",
        "loss_history = []\n",
        "val_loss_history = []\n",
        "train_acc_history = []\n",
        "val_acc_history = []\n",
        "\n",
        "# Loss and optimizer\n",
        "criterion = nn.BCEWithLogitsLoss()\n",
        "optimizer = torch.optim.Adam(params_to_update, lr=learning_rate)\n",
        "# Train the model\n",
        "lr = learning_rate\n",
        "total_step = len(lyme_train_data_loader)\n",
        "\n",
        "for epoch in range(num_epochs):\n",
        "    correct = 0\n",
        "    total = 0\n",
        "    for i, (images, labels) in enumerate(lyme_train_data_loader):\n",
        "        # Move tensors to the configured device\n",
        "        images = images.to(device)\n",
        "        labels = labels.to(device)\n",
        "\n",
        "        # Forward pass\n",
        "        outputs = model(images).to(device)\n",
        "        predicted = torch.where(torch.sigmoid(outputs.data) > 0.5, 1, 0)\n",
        "        loss = criterion(outputs, labels.float()) # labels are stored as float need cast to int\n",
        "\n",
        "        # Backward and optimize\n",
        "        optimizer.zero_grad()\n",
        "        loss.backward()\n",
        "        optimizer.step()\n",
        "\n",
        "        if (i+1) % 10 == 0:\n",
        "            print ('Epoch [{}/{}], Step [{}/{}], Loss: {:.4f}'\n",
        "                   .format(epoch+1, num_epochs, i+1, total_step, loss.item()))\n",
        "        total += labels.size(0)\n",
        "        correct += (predicted == labels).sum().item()\n",
        "    print('Train accuracy is: {} %'.format(100 * correct / total))\n",
        "    train_acc_history.append(100 * correct / total)\n",
        "    loss_history.append(loss.item())\n",
        "\n",
        "    # Code to update the lr\n",
        "    lr *= learning_rate_decay\n",
        "    update_lr(optimizer, lr)\n",
        "\n",
        "    with torch.no_grad():\n",
        "        correct = 0\n",
        "        total = 0\n",
        "        for images, labels in lyme_validation_data_loader:\n",
        "            images = images.to(device)\n",
        "            labels = labels.to(device)\n",
        "\n",
        "            outputs = model(images).to(device)\n",
        "            predicted = torch.where(torch.sigmoid(outputs.data) > 0.5, 1, 0)\n",
        "\n",
        "            loss = criterion(outputs, labels.float())\n",
        "\n",
        "            total += labels.size(0)\n",
        "            correct += (predicted == labels).sum().item()\n",
        "\n",
        "        val_accuracy = 100 * correct / total\n",
        "        if val_accuracy > best_val_acc:\n",
        "            best_val_acc = val_accuracy\n",
        "            best_model = model\n",
        "            print(\"New best validation accuracy: {} %\".format(best_val_acc))\n",
        "\n",
        "\n",
        "        print('Validataion accuracy is: {} %'.format(100 * correct / total))\n",
        "        val_acc_history.append(val_accuracy)\n",
        "        val_loss_history.append(loss.item())\n",
        "\n",
        "plt.plot(train_acc_history)\n",
        "plt.plot(val_acc_history)\n",
        "plt.xlabel('Epoch')\n",
        "plt.ylabel('Accuracy')\n",
        "plt.title('Accuracy history')\n",
        "plt.legend(['Training', 'Validation'], loc='upper left')\n",
        "plt.show()\n",
        "\n",
        "# plot the loss history\n",
        "plt.plot(loss_history)\n",
        "plt.plot(val_loss_history)\n",
        "plt.xlabel('Epoch')\n",
        "plt.ylabel('Loss')\n",
        "plt.title('Loss history')\n",
        "plt.legend(['Training', 'Validation'], loc='upper left')\n",
        "plt.show()"
      ]
    },
    {
      "cell_type": "markdown",
      "metadata": {
        "id": "0haxQObpsxSm"
      },
      "source": [
        "# Siamese Network"
      ]
    },
    {
      "cell_type": "code",
      "execution_count": null,
      "metadata": {
        "id": "J26LD_0CsxSm"
      },
      "outputs": [],
      "source": [
        "import numpy\n",
        "\n",
        "# #Load Lyme\n",
        "lyme_train_data_path = \"./datasets/lyme_dataset/RashData/Train/Train_2_Cases\"\n",
        "lyme_test_data_path = \"./datasets/lyme_dataset/RashData/Validation/Validation_2_Cases\"\n",
        "\n",
        "#Load train dataset\n",
        "lyme_train_data = torchvision.datasets.ImageFolder(root=lyme_train_data_path)\n",
        "\n",
        "class LymeDataset(Dataset):\n",
        "    \"\"\"\n",
        "    Src: https://stackoverflow.com/questions/65112063/ive-2-folders-one-image-in-1-folder-and-another-in-another-folder-i-have-to-co\n",
        "\n",
        "    Note: Code rewritten.\n",
        "    \"\"\"\n",
        "    def __init__(self,lyme_train_data, test):\n",
        "        self.lyme_train_data = lyme_train_data\n",
        "        self.test = test\n",
        "\n",
        "        self.data_aug_transforms = [\n",
        "            transforms.RandomRotation([-90, 90]),\n",
        "            transforms.RandomHorizontalFlip(),\n",
        "            transforms.ColorJitter(brightness = 0.3)\n",
        "        ]\n",
        "\n",
        "        self.test_transforms = [\n",
        "            transforms.Resize((IMAGE_SIZE, IMAGE_SIZE)),\n",
        "            transforms.ToTensor()\n",
        "        ]\n",
        "\n",
        "        self.train_transform = transforms.Compose(self.data_aug_transforms + self.test_transforms)\n",
        "\n",
        "        if self.test:\n",
        "            self.transform = self.test_transforms\n",
        "        else:\n",
        "            self.transform =  self.train_transform\n",
        "\n",
        "\n",
        "    def __getitem__(self, index):\n",
        "        random_image = random.sample(list(lyme_train_data.imgs), 1)\n",
        "        choose_class = numpy.random.randint(0,2) # 0 or 1\n",
        "\n",
        "        if choose_class:\n",
        "            while True:\n",
        "                new_random_image =random.sample(list(lyme_train_data.imgs), 1)\n",
        "                if random_image[0][1]==new_random_image[0][1]:\n",
        "                    break\n",
        "        else:\n",
        "            while True:\n",
        "                new_random_image = random.sample(list(lyme_train_data.imgs), 1)\n",
        "                if random_image[0][1] != new_random_image[0][1]:\n",
        "                    break\n",
        "\n",
        "        label_image_one = random_image[0][1]\n",
        "        label_image_two = new_random_image[0][1]\n",
        "\n",
        "        pair_image_one = Image.open(random_image[0][0]).convert(\"RGB\")\n",
        "        pair_image_two = Image.open(new_random_image[0][0]).convert(\"RGB\")\n",
        "\n",
        "        pair_image_one = self.transform(pair_image_one)\n",
        "        pair_image_two = self.transform(pair_image_two)\n",
        "        # Label 1 = different\n",
        "        # Label 0 = same class\n",
        "        get_pair_label = torch.from_numpy(np.array([label_image_one != label_image_two],dtype=np.float32))\n",
        "\n",
        "        return [pair_image_one, pair_image_two], get_pair_label, [label_image_one, label_image_two]\n",
        "\n",
        "    def __len__(self):\n",
        "        return len(self.lyme_train_data.imgs) * 2 # we can decide the nr pairs"
      ]
    },
    {
      "cell_type": "markdown",
      "metadata": {
        "id": "rDibeS5zsxSn"
      },
      "source": [
        "# Split"
      ]
    },
    {
      "cell_type": "code",
      "execution_count": null,
      "metadata": {
        "scrolled": true,
        "colab": {
          "base_uri": "https://localhost:8080/",
          "height": 90
        },
        "id": "TgcIthr9sxSn",
        "outputId": "5fe4d456-d146-4852-f490-a3014c14e022"
      },
      "outputs": [
        {
          "output_type": "stream",
          "name": "stdout",
          "text": [
            "642\n"
          ]
        },
        {
          "output_type": "execute_result",
          "data": {
            "text/plain": [
              "'for i, data in enumerate(lyme_train_data_loader):\\n    [pair_image_one, pair_image_two], get_pair_label, [label_image_one, label_image_two] = data\\n    print(\"Pair label:\", get_pair_label[0])\\n    fig, axs = plt.subplots(1, 2, figsize = (10, 10))\\n    axs[0].imshow(pair_image_one[0].squeeze().permute(1, 2, 0))\\n    axs[1].imshow(pair_image_two[0].squeeze().permute(1, 2, 0))\\n    plt.show()'"
            ],
            "application/vnd.google.colaboratory.intrinsic+json": {
              "type": "string"
            }
          },
          "metadata": {},
          "execution_count": 16
        }
      ],
      "source": [
        "lyme_dataset = LymeDataset(lyme_train_data, test = False)\n",
        "lyme_train_data_loader = torch.utils.data.DataLoader(lyme_dataset, batch_size=BATCH)\n",
        "\n",
        "# split train/ val\n",
        "val_split = 0.1\n",
        "\n",
        "num_training = int((1 - val_split) * len(lyme_dataset))\n",
        "num_validation = len(lyme_dataset) - num_training\n",
        "mask = list(range(num_training))\n",
        "\n",
        "train_dataset = torch.utils.data.Subset(lyme_dataset, mask)\n",
        "mask = list(range(num_training, num_training + num_validation))\n",
        "val_dataset = torch.utils.data.Subset(lyme_dataset, mask)\n",
        "print(len(train_dataset))\n",
        "# Create DataLoaders\n",
        "lyme_train_data_loader = torch.utils.data.DataLoader(train_dataset, batch_size=BATCH, shuffle=True)\n",
        "lyme_validation_data_loader = torch.utils.data.DataLoader(val_dataset, batch_size=BATCH, shuffle=True)\n",
        "\n",
        "'''for i, data in enumerate(lyme_train_data_loader):\n",
        "    [pair_image_one, pair_image_two], get_pair_label, [label_image_one, label_image_two] = data\n",
        "    print(\"Pair label:\", get_pair_label[0])\n",
        "    fig, axs = plt.subplots(1, 2, figsize = (10, 10))\n",
        "    axs[0].imshow(pair_image_one[0].squeeze().permute(1, 2, 0))\n",
        "    axs[1].imshow(pair_image_two[0].squeeze().permute(1, 2, 0))\n",
        "    plt.show()'''\n",
        ""
      ]
    },
    {
      "cell_type": "code",
      "execution_count": null,
      "metadata": {
        "id": "5oZv9wzlsxSn"
      },
      "outputs": [],
      "source": [
        "class ContrastiveLoss(torch.nn.Module):\n",
        "    \"\"\"\n",
        "    Source: https://gist.github.com/dimartinot/80abaabaea9a6ef3d9ab0ab199927ee4#file-contrastive_loss-py\n",
        "    TODO: rewrite\n",
        "    \"\"\"\n",
        "\n",
        "    def __init__(self, margin=2.0):\n",
        "        super(ContrastiveLoss, self).__init__()\n",
        "        self.margin = margin\n",
        "\n",
        "    def forward(self, dist, label):\n",
        "\n",
        "        loss = torch.mean(1/2*(label) * torch.pow(dist, 2) +\n",
        "                                      1/2*(1-label) * torch.pow(torch.clamp(self.margin - dist, min=0.0), 2))\n",
        "\n",
        "        return loss"
      ]
    },
    {
      "cell_type": "code",
      "execution_count": null,
      "metadata": {
        "scrolled": true,
        "id": "p60re6_PsxSn"
      },
      "outputs": [],
      "source": [
        "from torchvision import models\n",
        "\n",
        "layer_config= [2048, 512, 256]\n",
        "num_classes = 1\n",
        "num_epochs = 30\n",
        "batch_size = 200\n",
        "learning_rate = 1e-5\n",
        "learning_rate_decay = 0.99\n",
        "\n",
        "class ResNet50(nn.Module):\n",
        "    \"\"\"Create ResNet 50 model pretrained with ImageNet\"\"\"\n",
        "    def __init__(self, n_class, fine_tune, pretrained=True):\n",
        "        super(ResNet50, self).__init__()\n",
        "        self.net = models.resnet50(pretrained=pretrained)\n",
        "        # add new classifier layers\n",
        "        self.net.fc = nn.Sequential(\n",
        "            nn.Flatten(),\n",
        "            nn.Linear(layer_config[0], layer_config[1]),\n",
        "            nn.BatchNorm1d(layer_config[1]),\n",
        "            nn.ReLU(),\n",
        "            nn.Linear(layer_config[1], layer_config[2]),\n",
        "            nn.BatchNorm1d(layer_config[2]),\n",
        "            nn.ReLU(),\n",
        "        )\n",
        "        self.final_class =  nn.Linear(layer_config[2], n_class)\n",
        "\n",
        "    def forward(self, x):\n",
        "        net_features = self.net(x)\n",
        "        out = self.final_class(net_features)\n",
        "        return net_features, out.view(-1, 1).squeeze(1).type(torch.FloatTensor)"
      ]
    },
    {
      "cell_type": "code",
      "execution_count": null,
      "metadata": {
        "colab": {
          "base_uri": "https://localhost:8080/"
        },
        "id": "ZR3LLwAIsxSo",
        "outputId": "b0f964be-2122-4cf3-8d34-750a9b0d9169"
      },
      "outputs": [
        {
          "metadata": {
            "tags": null
          },
          "name": "stderr",
          "output_type": "stream",
          "text": [
            "/usr/local/lib/python3.7/dist-packages/torchvision/models/_utils.py:209: UserWarning: The parameter 'pretrained' is deprecated since 0.13 and will be removed in 0.15, please use 'weights' instead.\n",
            "  f\"The parameter '{pretrained_param}' is deprecated since 0.13 and will be removed in 0.15, \"\n",
            "/usr/local/lib/python3.7/dist-packages/torchvision/models/_utils.py:223: UserWarning: Arguments other than a weight enum or `None` for 'weights' are deprecated since 0.13 and will be removed in 0.15. The current behavior is equivalent to passing `weights=ResNet50_Weights.IMAGENET1K_V1`. You can also use `weights=ResNet50_Weights.DEFAULT` to get the most up-to-date weights.\n",
            "  warnings.warn(msg)\n"
          ]
        },
        {
          "metadata": {
            "tags": null
          },
          "name": "stdout",
          "output_type": "stream",
          "text": [
            "Epoch [1/30], Step [10/161], Loss: 1.3351\n",
            "Epoch [1/30], Step [20/161], Loss: 1.3430\n",
            "Epoch [1/30], Step [30/161], Loss: 1.3591\n",
            "Epoch [1/30], Step [40/161], Loss: 1.3262\n",
            "Epoch [1/30], Step [50/161], Loss: 1.3140\n"
          ]
        },
        {
          "metadata": {
            "tags": null
          },
          "name": "stderr",
          "output_type": "stream",
          "text": [
            "/usr/local/lib/python3.7/dist-packages/PIL/Image.py:960: UserWarning: Palette images with Transparency expressed in bytes should be converted to RGBA images\n",
            "  \"Palette images with Transparency expressed in bytes should be \"\n"
          ]
        },
        {
          "output_type": "stream",
          "name": "stdout",
          "text": [
            "Epoch [1/30], Step [60/161], Loss: 1.0151\n",
            "Epoch [1/30], Step [70/161], Loss: 1.2410\n",
            "Epoch [1/30], Step [80/161], Loss: 1.1365\n",
            "Epoch [1/30], Step [90/161], Loss: 0.8546\n",
            "Epoch [1/30], Step [100/161], Loss: 0.8654\n",
            "Epoch [1/30], Step [110/161], Loss: 1.3385\n",
            "Epoch [1/30], Step [120/161], Loss: 1.2194\n",
            "Epoch [1/30], Step [130/161], Loss: 0.9343\n",
            "Epoch [1/30], Step [140/161], Loss: 0.8831\n",
            "Epoch [1/30], Step [150/161], Loss: 1.4047\n",
            "Epoch [1/30], Step [160/161], Loss: 1.1873\n",
            "Train accuracy is: 58.95638629283489 %\n",
            "Epoch [2/30], Step [10/161], Loss: 1.0681\n",
            "Epoch [2/30], Step [20/161], Loss: 0.5809\n",
            "Epoch [2/30], Step [30/161], Loss: 1.2651\n",
            "Epoch [2/30], Step [40/161], Loss: 1.1598\n",
            "Epoch [2/30], Step [50/161], Loss: 1.0040\n",
            "Epoch [2/30], Step [60/161], Loss: 1.2395\n",
            "Epoch [2/30], Step [70/161], Loss: 0.7412\n",
            "Epoch [2/30], Step [80/161], Loss: 0.9724\n",
            "Epoch [2/30], Step [90/161], Loss: 1.0826\n",
            "Epoch [2/30], Step [100/161], Loss: 1.0982\n",
            "Epoch [2/30], Step [110/161], Loss: 1.4313\n",
            "Epoch [2/30], Step [120/161], Loss: 1.2750\n",
            "Epoch [2/30], Step [130/161], Loss: 1.4228\n",
            "Epoch [2/30], Step [140/161], Loss: 1.0906\n",
            "Epoch [2/30], Step [150/161], Loss: 1.2232\n",
            "Epoch [2/30], Step [160/161], Loss: 1.1282\n",
            "Train accuracy is: 67.75700934579439 %\n",
            "Epoch [3/30], Step [10/161], Loss: 1.0832\n",
            "Epoch [3/30], Step [20/161], Loss: 1.2141\n",
            "Epoch [3/30], Step [30/161], Loss: 1.0410\n",
            "Epoch [3/30], Step [40/161], Loss: 1.1695\n",
            "Epoch [3/30], Step [50/161], Loss: 0.9280\n",
            "Epoch [3/30], Step [60/161], Loss: 0.8975\n",
            "Epoch [3/30], Step [70/161], Loss: 1.1211\n",
            "Epoch [3/30], Step [80/161], Loss: 1.0073\n",
            "Epoch [3/30], Step [90/161], Loss: 1.2095\n",
            "Epoch [3/30], Step [100/161], Loss: 0.9477\n",
            "Epoch [3/30], Step [110/161], Loss: 0.8393\n",
            "Epoch [3/30], Step [120/161], Loss: 0.6015\n",
            "Epoch [3/30], Step [130/161], Loss: 1.0619\n",
            "Epoch [3/30], Step [140/161], Loss: 1.5089\n",
            "Epoch [3/30], Step [150/161], Loss: 0.9790\n",
            "Epoch [3/30], Step [160/161], Loss: 1.0476\n",
            "Train accuracy is: 76.6355140186916 %\n",
            "Epoch [4/30], Step [10/161], Loss: 1.2513\n",
            "Epoch [4/30], Step [20/161], Loss: 0.9326\n",
            "Epoch [4/30], Step [30/161], Loss: 1.0243\n",
            "Epoch [4/30], Step [40/161], Loss: 0.6841\n",
            "Epoch [4/30], Step [50/161], Loss: 0.7771\n",
            "Epoch [4/30], Step [60/161], Loss: 1.1908\n",
            "Epoch [4/30], Step [70/161], Loss: 1.0084\n",
            "Epoch [4/30], Step [80/161], Loss: 0.8995\n",
            "Epoch [4/30], Step [90/161], Loss: 0.6822\n",
            "Epoch [4/30], Step [100/161], Loss: 0.9891\n",
            "Epoch [4/30], Step [110/161], Loss: 0.9663\n",
            "Epoch [4/30], Step [120/161], Loss: 1.1063\n",
            "Epoch [4/30], Step [130/161], Loss: 0.7189\n",
            "Epoch [4/30], Step [140/161], Loss: 1.1394\n",
            "Epoch [4/30], Step [150/161], Loss: 1.2191\n",
            "Epoch [4/30], Step [160/161], Loss: 0.6853\n",
            "Train accuracy is: 79.2834890965732 %\n",
            "Epoch [5/30], Step [10/161], Loss: 0.5870\n",
            "Epoch [5/30], Step [20/161], Loss: 1.2984\n",
            "Epoch [5/30], Step [30/161], Loss: 0.9246\n",
            "Epoch [5/30], Step [40/161], Loss: 1.4199\n",
            "Epoch [5/30], Step [50/161], Loss: 0.8461\n",
            "Epoch [5/30], Step [60/161], Loss: 0.8688\n",
            "Epoch [5/30], Step [70/161], Loss: 1.1889\n",
            "Epoch [5/30], Step [80/161], Loss: 0.7424\n",
            "Epoch [5/30], Step [90/161], Loss: 0.8484\n",
            "Epoch [5/30], Step [100/161], Loss: 0.7230\n",
            "Epoch [5/30], Step [110/161], Loss: 0.7606\n",
            "Epoch [5/30], Step [120/161], Loss: 1.0982\n",
            "Epoch [5/30], Step [130/161], Loss: 1.2070\n",
            "Epoch [5/30], Step [140/161], Loss: 1.1268\n",
            "Epoch [5/30], Step [150/161], Loss: 1.3712\n",
            "Epoch [5/30], Step [160/161], Loss: 1.2783\n",
            "Train accuracy is: 79.4392523364486 %\n",
            "Epoch [6/30], Step [10/161], Loss: 0.7137\n",
            "Epoch [6/30], Step [20/161], Loss: 1.0626\n",
            "Epoch [6/30], Step [30/161], Loss: 0.9130\n",
            "Epoch [6/30], Step [40/161], Loss: 1.2115\n",
            "Epoch [6/30], Step [50/161], Loss: 0.9990\n",
            "Epoch [6/30], Step [60/161], Loss: 1.4018\n",
            "Epoch [6/30], Step [70/161], Loss: 1.5392\n",
            "Epoch [6/30], Step [80/161], Loss: 1.0606\n",
            "Epoch [6/30], Step [90/161], Loss: 0.8537\n",
            "Epoch [6/30], Step [100/161], Loss: 0.6713\n",
            "Epoch [6/30], Step [110/161], Loss: 0.9091\n",
            "Epoch [6/30], Step [120/161], Loss: 0.7065\n",
            "Epoch [6/30], Step [130/161], Loss: 1.1592\n",
            "Epoch [6/30], Step [140/161], Loss: 0.9763\n",
            "Epoch [6/30], Step [150/161], Loss: 0.8020\n",
            "Epoch [6/30], Step [160/161], Loss: 0.9536\n",
            "Train accuracy is: 81.07476635514018 %\n",
            "Epoch [7/30], Step [10/161], Loss: 1.1638\n",
            "Epoch [7/30], Step [20/161], Loss: 1.0069\n",
            "Epoch [7/30], Step [30/161], Loss: 0.9126\n",
            "Epoch [7/30], Step [40/161], Loss: 1.1828\n",
            "Epoch [7/30], Step [50/161], Loss: 0.5132\n",
            "Epoch [7/30], Step [60/161], Loss: 1.0977\n",
            "Epoch [7/30], Step [70/161], Loss: 0.7244\n",
            "Epoch [7/30], Step [80/161], Loss: 0.7375\n",
            "Epoch [7/30], Step [90/161], Loss: 1.1903\n",
            "Epoch [7/30], Step [100/161], Loss: 0.8448\n",
            "Epoch [7/30], Step [110/161], Loss: 0.5748\n",
            "Epoch [7/30], Step [120/161], Loss: 1.3583\n",
            "Epoch [7/30], Step [130/161], Loss: 1.2377\n",
            "Epoch [7/30], Step [140/161], Loss: 1.1280\n",
            "Epoch [7/30], Step [150/161], Loss: 1.1506\n",
            "Epoch [7/30], Step [160/161], Loss: 0.7898\n",
            "Train accuracy is: 82.398753894081 %\n",
            "Epoch [8/30], Step [10/161], Loss: 1.0017\n",
            "Epoch [8/30], Step [20/161], Loss: 1.0806\n",
            "Epoch [8/30], Step [30/161], Loss: 1.2883\n",
            "Epoch [8/30], Step [40/161], Loss: 1.1442\n",
            "Epoch [8/30], Step [50/161], Loss: 0.6562\n",
            "Epoch [8/30], Step [60/161], Loss: 0.6268\n",
            "Epoch [8/30], Step [70/161], Loss: 0.8722\n",
            "Epoch [8/30], Step [80/161], Loss: 0.8555\n",
            "Epoch [8/30], Step [90/161], Loss: 0.8115\n",
            "Epoch [8/30], Step [100/161], Loss: 0.8672\n",
            "Epoch [8/30], Step [110/161], Loss: 0.8140\n",
            "Epoch [8/30], Step [120/161], Loss: 0.8804\n",
            "Epoch [8/30], Step [130/161], Loss: 0.9462\n",
            "Epoch [8/30], Step [140/161], Loss: 0.9927\n",
            "Epoch [8/30], Step [150/161], Loss: 0.8502\n",
            "Epoch [8/30], Step [160/161], Loss: 1.4555\n",
            "Train accuracy is: 82.3208722741433 %\n",
            "Epoch [9/30], Step [10/161], Loss: 0.4102\n",
            "Epoch [9/30], Step [20/161], Loss: 1.0946\n",
            "Epoch [9/30], Step [30/161], Loss: 1.4083\n",
            "Epoch [9/30], Step [40/161], Loss: 0.9749\n",
            "Epoch [9/30], Step [50/161], Loss: 0.9597\n",
            "Epoch [9/30], Step [60/161], Loss: 1.0528\n",
            "Epoch [9/30], Step [70/161], Loss: 0.5037\n",
            "Epoch [9/30], Step [80/161], Loss: 0.8384\n",
            "Epoch [9/30], Step [90/161], Loss: 0.9284\n",
            "Epoch [9/30], Step [100/161], Loss: 0.8113\n",
            "Epoch [9/30], Step [110/161], Loss: 0.4056\n",
            "Epoch [9/30], Step [120/161], Loss: 0.5633\n",
            "Epoch [9/30], Step [130/161], Loss: 0.7696\n",
            "Epoch [9/30], Step [140/161], Loss: 0.9377\n",
            "Epoch [9/30], Step [150/161], Loss: 1.3936\n",
            "Epoch [9/30], Step [160/161], Loss: 0.8154\n",
            "Train accuracy is: 83.8785046728972 %\n",
            "Epoch [10/30], Step [10/161], Loss: 0.8388\n",
            "Epoch [10/30], Step [20/161], Loss: 1.5124\n",
            "Epoch [10/30], Step [30/161], Loss: 1.0373\n",
            "Epoch [10/30], Step [40/161], Loss: 0.6375\n",
            "Epoch [10/30], Step [50/161], Loss: 1.1080\n",
            "Epoch [10/30], Step [60/161], Loss: 1.0880\n",
            "Epoch [10/30], Step [70/161], Loss: 1.0570\n",
            "Epoch [10/30], Step [80/161], Loss: 0.7775\n",
            "Epoch [10/30], Step [90/161], Loss: 0.8528\n",
            "Epoch [10/30], Step [100/161], Loss: 1.0820\n",
            "Epoch [10/30], Step [110/161], Loss: 1.1679\n",
            "Epoch [10/30], Step [120/161], Loss: 1.0298\n",
            "Epoch [10/30], Step [130/161], Loss: 0.5786\n",
            "Epoch [10/30], Step [140/161], Loss: 0.8147\n",
            "Epoch [10/30], Step [150/161], Loss: 1.3171\n",
            "Epoch [10/30], Step [160/161], Loss: 1.1733\n",
            "Train accuracy is: 81.30841121495327 %\n",
            "Epoch [11/30], Step [10/161], Loss: 0.9915\n",
            "Epoch [11/30], Step [20/161], Loss: 1.0115\n",
            "Epoch [11/30], Step [30/161], Loss: 1.3462\n",
            "Epoch [11/30], Step [40/161], Loss: 1.0852\n",
            "Epoch [11/30], Step [50/161], Loss: 0.5170\n",
            "Epoch [11/30], Step [60/161], Loss: 1.0639\n",
            "Epoch [11/30], Step [70/161], Loss: 1.3560\n",
            "Epoch [11/30], Step [80/161], Loss: 0.8226\n",
            "Epoch [11/30], Step [90/161], Loss: 0.9265\n",
            "Epoch [11/30], Step [100/161], Loss: 0.6590\n",
            "Epoch [11/30], Step [110/161], Loss: 0.8939\n",
            "Epoch [11/30], Step [120/161], Loss: 0.9633\n",
            "Epoch [11/30], Step [130/161], Loss: 1.1336\n",
            "Epoch [11/30], Step [140/161], Loss: 1.0541\n",
            "Epoch [11/30], Step [150/161], Loss: 1.0208\n",
            "Epoch [11/30], Step [160/161], Loss: 0.7595\n",
            "Train accuracy is: 85.90342679127725 %\n",
            "Epoch [12/30], Step [10/161], Loss: 0.7469\n",
            "Epoch [12/30], Step [20/161], Loss: 0.5254\n",
            "Epoch [12/30], Step [30/161], Loss: 1.3719\n",
            "Epoch [12/30], Step [40/161], Loss: 0.7807\n",
            "Epoch [12/30], Step [50/161], Loss: 0.7250\n",
            "Epoch [12/30], Step [60/161], Loss: 0.9307\n",
            "Epoch [12/30], Step [70/161], Loss: 1.0433\n",
            "Epoch [12/30], Step [80/161], Loss: 1.0598\n",
            "Epoch [12/30], Step [90/161], Loss: 1.3827\n",
            "Epoch [12/30], Step [100/161], Loss: 0.5540\n",
            "Epoch [12/30], Step [110/161], Loss: 0.4425\n",
            "Epoch [12/30], Step [120/161], Loss: 0.6456\n",
            "Epoch [12/30], Step [130/161], Loss: 1.0145\n",
            "Epoch [12/30], Step [140/161], Loss: 0.6134\n",
            "Epoch [12/30], Step [150/161], Loss: 0.9018\n",
            "Epoch [12/30], Step [160/161], Loss: 0.9297\n",
            "Train accuracy is: 84.81308411214954 %\n",
            "Epoch [13/30], Step [10/161], Loss: 0.9985\n",
            "Epoch [13/30], Step [20/161], Loss: 0.8044\n",
            "Epoch [13/30], Step [30/161], Loss: 1.0445\n",
            "Epoch [13/30], Step [40/161], Loss: 0.6307\n",
            "Epoch [13/30], Step [50/161], Loss: 1.0778\n",
            "Epoch [13/30], Step [60/161], Loss: 1.2718\n",
            "Epoch [13/30], Step [70/161], Loss: 1.2042\n",
            "Epoch [13/30], Step [80/161], Loss: 1.2436\n",
            "Epoch [13/30], Step [90/161], Loss: 1.1524\n",
            "Epoch [13/30], Step [100/161], Loss: 0.7551\n",
            "Epoch [13/30], Step [110/161], Loss: 0.7627\n",
            "Epoch [13/30], Step [120/161], Loss: 1.2597\n",
            "Epoch [13/30], Step [130/161], Loss: 1.3439\n",
            "Epoch [13/30], Step [140/161], Loss: 0.4900\n",
            "Epoch [13/30], Step [150/161], Loss: 1.1753\n",
            "Epoch [13/30], Step [160/161], Loss: 1.3354\n",
            "Train accuracy is: 85.90342679127725 %\n",
            "Epoch [14/30], Step [10/161], Loss: 1.0611\n",
            "Epoch [14/30], Step [20/161], Loss: 0.5984\n",
            "Epoch [14/30], Step [30/161], Loss: 1.0962\n",
            "Epoch [14/30], Step [40/161], Loss: 1.1024\n",
            "Epoch [14/30], Step [50/161], Loss: 1.0407\n",
            "Epoch [14/30], Step [60/161], Loss: 0.8201\n",
            "Epoch [14/30], Step [70/161], Loss: 1.1180\n",
            "Epoch [14/30], Step [80/161], Loss: 0.7349\n",
            "Epoch [14/30], Step [90/161], Loss: 0.4626\n",
            "Epoch [14/30], Step [100/161], Loss: 0.9876\n",
            "Epoch [14/30], Step [110/161], Loss: 1.0818\n",
            "Epoch [14/30], Step [120/161], Loss: 1.0782\n",
            "Epoch [14/30], Step [130/161], Loss: 0.6493\n",
            "Epoch [14/30], Step [140/161], Loss: 1.2013\n",
            "Epoch [14/30], Step [150/161], Loss: 0.8993\n",
            "Epoch [14/30], Step [160/161], Loss: 0.9743\n",
            "Train accuracy is: 87.22741433021807 %\n",
            "Epoch [15/30], Step [10/161], Loss: 0.7470\n",
            "Epoch [15/30], Step [20/161], Loss: 0.6026\n",
            "Epoch [15/30], Step [30/161], Loss: 1.3521\n",
            "Epoch [15/30], Step [40/161], Loss: 0.6099\n",
            "Epoch [15/30], Step [50/161], Loss: 0.9773\n",
            "Epoch [15/30], Step [60/161], Loss: 0.9703\n",
            "Epoch [15/30], Step [70/161], Loss: 0.9919\n",
            "Epoch [15/30], Step [80/161], Loss: 0.4998\n",
            "Epoch [15/30], Step [90/161], Loss: 0.6466\n",
            "Epoch [15/30], Step [100/161], Loss: 0.5367\n",
            "Epoch [15/30], Step [110/161], Loss: 0.8498\n",
            "Epoch [15/30], Step [120/161], Loss: 0.7027\n",
            "Epoch [15/30], Step [130/161], Loss: 0.7300\n",
            "Epoch [15/30], Step [140/161], Loss: 0.6989\n",
            "Epoch [15/30], Step [150/161], Loss: 1.0126\n",
            "Epoch [15/30], Step [160/161], Loss: 0.8249\n",
            "Train accuracy is: 87.38317757009345 %\n",
            "Epoch [16/30], Step [10/161], Loss: 0.6708\n",
            "Epoch [16/30], Step [20/161], Loss: 0.6828\n",
            "Epoch [16/30], Step [30/161], Loss: 0.9472\n",
            "Epoch [16/30], Step [40/161], Loss: 0.7947\n",
            "Epoch [16/30], Step [50/161], Loss: 1.0106\n",
            "Epoch [16/30], Step [60/161], Loss: 1.3021\n",
            "Epoch [16/30], Step [70/161], Loss: 0.9757\n",
            "Epoch [16/30], Step [80/161], Loss: 0.9745\n",
            "Epoch [16/30], Step [90/161], Loss: 0.8933\n",
            "Epoch [16/30], Step [100/161], Loss: 1.0112\n",
            "Epoch [16/30], Step [110/161], Loss: 0.4388\n",
            "Epoch [16/30], Step [120/161], Loss: 0.9278\n",
            "Epoch [16/30], Step [130/161], Loss: 0.8553\n",
            "Epoch [16/30], Step [140/161], Loss: 0.6944\n",
            "Epoch [16/30], Step [150/161], Loss: 1.1540\n",
            "Epoch [16/30], Step [160/161], Loss: 1.0305\n",
            "Train accuracy is: 88.62928348909658 %\n",
            "Epoch [17/30], Step [10/161], Loss: 0.5468\n",
            "Epoch [17/30], Step [20/161], Loss: 0.5121\n",
            "Epoch [17/30], Step [30/161], Loss: 1.3587\n",
            "Epoch [17/30], Step [40/161], Loss: 0.9243\n",
            "Epoch [17/30], Step [50/161], Loss: 0.7869\n",
            "Epoch [17/30], Step [60/161], Loss: 1.2100\n",
            "Epoch [17/30], Step [70/161], Loss: 0.7798\n",
            "Epoch [17/30], Step [80/161], Loss: 1.4637\n",
            "Epoch [17/30], Step [90/161], Loss: 0.9135\n",
            "Epoch [17/30], Step [100/161], Loss: 0.7930\n",
            "Epoch [17/30], Step [110/161], Loss: 0.8406\n",
            "Epoch [17/30], Step [120/161], Loss: 0.6083\n",
            "Epoch [17/30], Step [130/161], Loss: 0.6816\n",
            "Epoch [17/30], Step [140/161], Loss: 0.9069\n",
            "Epoch [17/30], Step [150/161], Loss: 0.6357\n",
            "Epoch [17/30], Step [160/161], Loss: 0.6106\n",
            "Train accuracy is: 87.07165109034268 %\n",
            "Epoch [18/30], Step [10/161], Loss: 0.8344\n",
            "Epoch [18/30], Step [20/161], Loss: 1.1468\n",
            "Epoch [18/30], Step [30/161], Loss: 0.8151\n",
            "Epoch [18/30], Step [40/161], Loss: 0.8476\n",
            "Epoch [18/30], Step [50/161], Loss: 0.6920\n",
            "Epoch [18/30], Step [60/161], Loss: 0.9484\n",
            "Epoch [18/30], Step [70/161], Loss: 0.5734\n",
            "Epoch [18/30], Step [80/161], Loss: 0.7820\n",
            "Epoch [18/30], Step [90/161], Loss: 0.7147\n",
            "Epoch [18/30], Step [100/161], Loss: 0.5426\n",
            "Epoch [18/30], Step [110/161], Loss: 1.4304\n",
            "Epoch [18/30], Step [120/161], Loss: 0.6713\n",
            "Epoch [18/30], Step [130/161], Loss: 1.0557\n",
            "Epoch [18/30], Step [140/161], Loss: 0.8864\n",
            "Epoch [18/30], Step [150/161], Loss: 0.9659\n",
            "Epoch [18/30], Step [160/161], Loss: 1.0516\n",
            "Train accuracy is: 89.33021806853583 %\n",
            "Epoch [19/30], Step [10/161], Loss: 0.7193\n",
            "Epoch [19/30], Step [20/161], Loss: 1.0319\n",
            "Epoch [19/30], Step [30/161], Loss: 0.9992\n",
            "Epoch [19/30], Step [40/161], Loss: 0.7988\n",
            "Epoch [19/30], Step [50/161], Loss: 0.8392\n",
            "Epoch [19/30], Step [60/161], Loss: 1.0730\n",
            "Epoch [19/30], Step [70/161], Loss: 1.3488\n",
            "Epoch [19/30], Step [80/161], Loss: 0.5386\n",
            "Epoch [19/30], Step [90/161], Loss: 0.9721\n",
            "Epoch [19/30], Step [100/161], Loss: 1.1047\n",
            "Epoch [19/30], Step [110/161], Loss: 1.0107\n",
            "Epoch [19/30], Step [120/161], Loss: 0.7116\n",
            "Epoch [19/30], Step [130/161], Loss: 1.0926\n",
            "Epoch [19/30], Step [140/161], Loss: 0.9277\n",
            "Epoch [19/30], Step [150/161], Loss: 1.2610\n",
            "Epoch [19/30], Step [160/161], Loss: 0.8124\n",
            "Train accuracy is: 89.40809968847353 %\n",
            "Epoch [20/30], Step [10/161], Loss: 0.5482\n",
            "Epoch [20/30], Step [20/161], Loss: 1.0634\n",
            "Epoch [20/30], Step [30/161], Loss: 0.4409\n",
            "Epoch [20/30], Step [40/161], Loss: 0.8932\n",
            "Epoch [20/30], Step [50/161], Loss: 1.1015\n",
            "Epoch [20/30], Step [60/161], Loss: 1.4598\n",
            "Epoch [20/30], Step [70/161], Loss: 0.5306\n",
            "Epoch [20/30], Step [80/161], Loss: 1.2778\n",
            "Epoch [20/30], Step [90/161], Loss: 0.9261\n",
            "Epoch [20/30], Step [100/161], Loss: 0.8596\n",
            "Epoch [20/30], Step [110/161], Loss: 0.5999\n",
            "Epoch [20/30], Step [120/161], Loss: 0.8739\n",
            "Epoch [20/30], Step [130/161], Loss: 0.6583\n",
            "Epoch [20/30], Step [140/161], Loss: 1.0601\n",
            "Epoch [20/30], Step [150/161], Loss: 1.2521\n",
            "Epoch [20/30], Step [160/161], Loss: 0.8752\n",
            "Train accuracy is: 88.39563862928348 %\n",
            "Epoch [21/30], Step [10/161], Loss: 0.8917\n",
            "Epoch [21/30], Step [20/161], Loss: 0.9001\n",
            "Epoch [21/30], Step [30/161], Loss: 0.9585\n",
            "Epoch [21/30], Step [40/161], Loss: 0.9737\n",
            "Epoch [21/30], Step [50/161], Loss: 0.8056\n",
            "Epoch [21/30], Step [60/161], Loss: 0.8652\n",
            "Epoch [21/30], Step [70/161], Loss: 0.6309\n",
            "Epoch [21/30], Step [80/161], Loss: 0.9375\n",
            "Epoch [21/30], Step [90/161], Loss: 0.5163\n",
            "Epoch [21/30], Step [100/161], Loss: 0.6174\n",
            "Epoch [21/30], Step [110/161], Loss: 0.9264\n",
            "Epoch [21/30], Step [120/161], Loss: 0.8826\n",
            "Epoch [21/30], Step [130/161], Loss: 0.6540\n",
            "Epoch [21/30], Step [140/161], Loss: 0.6875\n",
            "Epoch [21/30], Step [150/161], Loss: 0.5763\n",
            "Epoch [21/30], Step [160/161], Loss: 0.5226\n",
            "Train accuracy is: 90.34267912772586 %\n",
            "Epoch [22/30], Step [10/161], Loss: 1.2284\n",
            "Epoch [22/30], Step [20/161], Loss: 0.8471\n",
            "Epoch [22/30], Step [30/161], Loss: 0.9369\n",
            "Epoch [22/30], Step [40/161], Loss: 0.6766\n",
            "Epoch [22/30], Step [50/161], Loss: 1.2840\n",
            "Epoch [22/30], Step [60/161], Loss: 0.9710\n",
            "Epoch [22/30], Step [70/161], Loss: 0.9520\n"
          ]
        }
      ],
      "source": [
        "loss_history = []\n",
        "val_loss_history = []\n",
        "train_acc_history = []\n",
        "val_acc_history = []\n",
        "\n",
        "# Initialize the model for this run\n",
        "fine_tune = True\n",
        "pretrained = True\n",
        "model = ResNet50(num_classes, fine_tune, pretrained).to(device)\n",
        "\n",
        "# Loss and optimizer\n",
        "criterion = nn.BCEWithLogitsLoss()\n",
        "optimizer = torch.optim.Adam(model.parameters(), lr=learning_rate)\n",
        "contrastive_loss = ContrastiveLoss()\n",
        "distance = torch.nn.MSELoss()\n",
        "# Train the model\n",
        "lr = learning_rate\n",
        "total_step = len(lyme_train_data_loader)\n",
        "\n",
        "for epoch in range(num_epochs):\n",
        "    correct = 0\n",
        "    correct_image_one = 0\n",
        "    correct_image_two = 0\n",
        "    total = 0\n",
        "    for batch_idx, data in enumerate(lyme_train_data_loader):\n",
        "        [pair_image_one, pair_image_two], get_pair_label, [label_image_one, label_image_two] = data\n",
        "        # Move tensors to the configured device\n",
        "        pair_image_one = pair_image_one.to(device)\n",
        "        pair_image_two = pair_image_two.to(device)\n",
        "\n",
        "        label_image_one = label_image_one.to(device)\n",
        "        label_image_two = label_image_two.to(device)\n",
        "        get_pair_label = get_pair_label.to(device)\n",
        "\n",
        "        # Forward pass of positive image\n",
        "        features_image_one, output_one = model(pair_image_one)\n",
        "\n",
        "        features_image_one, output_one = features_image_one.to(device), output_one.to(device)\n",
        "        # Forward pass of negative image\n",
        "        features_image_two, output_two = model(pair_image_two)\n",
        "        features_image_two, output_two = features_image_two.to(device), output_two.to(device)\n",
        "\n",
        "        predicted_one = torch.where(torch.sigmoid(output_one.data) > 0.5, 1, 0)\n",
        "        predicted_two = torch.where(torch.sigmoid(output_two.data) > 0.5, 1, 0)\n",
        "\n",
        "        # compute loss for positive image\n",
        "        loss = criterion(output_one, label_image_one.float())\n",
        "        # compute loss for negative image\n",
        "        loss += criterion(output_two, label_image_two.float())\n",
        "        # normalize\n",
        "        loss *= 0.5\n",
        "\n",
        "        distance_features = distance(features_image_one, features_image_two)\n",
        "        loss_features_similarity = contrastive_loss(distance_features, get_pair_label)\n",
        "\n",
        "        loss += loss_features_similarity\n",
        "\n",
        "        # Backward and optimize\n",
        "        optimizer.zero_grad()\n",
        "        loss.backward()\n",
        "        optimizer.step()\n",
        "\n",
        "        if (batch_idx+1) % 10 == 0:\n",
        "            print ('Epoch [{}/{}], Step [{}/{}], Loss: {:.4f}'\n",
        "                   .format(epoch+1, num_epochs, batch_idx+1, total_step, loss.item()))\n",
        "        total += label_image_one.size(0)\n",
        "        correct_image_one += (predicted_one == label_image_one).sum().item()\n",
        "\n",
        "        total += label_image_two.size(0)\n",
        "        correct_image_two += (predicted_two == label_image_two).sum().item()\n",
        "\n",
        "        correct = (correct_image_one + correct_image_two)\n",
        "\n",
        "\n",
        "    print('Train accuracy is: {} %'.format(100 * correct / total))\n",
        "    train_acc_history.append(100 * correct / total)\n",
        "    loss_history.append(loss.item())\n",
        "#TODO: add validation\n",
        "\n",
        "plt.plot(train_acc_history)\n",
        "plt.plot(val_acc_history)\n",
        "plt.xlabel('Epoch')\n",
        "plt.ylabel('Accuracy')\n",
        "plt.title('Accuracy history')\n",
        "plt.legend(['Training', 'Validation'], loc='upper left')\n",
        "plt.show()\n",
        "\n",
        "# plot the loss history\n",
        "plt.plot(loss_history)\n",
        "plt.plot(val_loss_history)\n",
        "plt.xlabel('Epoch')\n",
        "plt.ylabel('Loss')\n",
        "plt.title('Loss history')\n",
        "plt.legend(['Training', 'Validation'], loc='upper left')\n",
        "plt.show()"
      ]
    },
    {
      "cell_type": "code",
      "execution_count": null,
      "metadata": {
        "id": "_cbgf57NsxSo"
      },
      "outputs": [],
      "source": []
    },
    {
      "cell_type": "code",
      "execution_count": null,
      "metadata": {
        "id": "PfrUp48ZsxSo"
      },
      "outputs": [],
      "source": []
    }
  ],
  "metadata": {
    "accelerator": "GPU",
    "colab": {
      "provenance": []
    },
    "gpuClass": "standard",
    "kernelspec": {
      "display_name": "Python 3",
      "language": "python",
      "name": "python3"
    },
    "language_info": {
      "codemirror_mode": {
        "name": "ipython",
        "version": 3
      },
      "file_extension": ".py",
      "mimetype": "text/x-python",
      "name": "python",
      "nbconvert_exporter": "python",
      "pygments_lexer": "ipython3",
      "version": "3.9.13"
    }
  },
  "nbformat": 4,
  "nbformat_minor": 0
}